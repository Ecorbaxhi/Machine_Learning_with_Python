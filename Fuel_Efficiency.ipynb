{
  "nbformat": 4,
  "nbformat_minor": 0,
  "metadata": {
    "colab": {
      "provenance": []
    },
    "kernelspec": {
      "name": "python3",
      "display_name": "Python 3"
    },
    "language_info": {
      "name": "python"
    }
  },
  "cells": [
    {
      "cell_type": "markdown",
      "source": [
        "**HOMEWORK 3**"
      ],
      "metadata": {
        "id": "mm5RUIWJPw8m"
      }
    },
    {
      "cell_type": "code",
      "source": [
        "# Let's import first all the libraries needed (I updaed this query for every new question)\n",
        "\n",
        "import pandas as pd\n",
        "import numpy as np\n",
        "import matplotlib.pyplot as plt\n",
        "import seaborn as sns\n",
        "\n",
        "from sklearn.model_selection import train_test_split, cross_val_score\n",
        "from sklearn.linear_model import LogisticRegression\n",
        "from sklearn.metrics import classification_report, confusion_matrix, accuracy_score\n",
        "from sklearn.preprocessing import LabelEncoder\n",
        "from sklearn.metrics import accuracy_score, precision_score, recall_score, f1_score\n",
        "from sklearn.metrics import roc_curve, auc\n",
        "from sklearn.naive_bayes import GaussianNB\n",
        "from sklearn.preprocessing import StandardScaler\n",
        "from sklearn.neighbors import KNeighborsClassifier\n",
        "from sklearn.model_selection import GridSearchCV\n",
        "from sklearn.discriminant_analysis import LinearDiscriminantAnalysis\n",
        "from sklearn.model_selection import cross_val_score"
      ],
      "metadata": {
        "id": "5ljxF6AuPzQ6"
      },
      "execution_count": 54,
      "outputs": []
    },
    {
      "cell_type": "code",
      "source": [
        "# Question 1\n",
        "\n",
        "# Load the Auto.csv file on Blackboard into a dataframe\n",
        "\n",
        "# Solution\n",
        "\n",
        "from google.colab import files\n",
        "uploaded = files.upload()\n",
        "\n",
        "auto = pd.read_csv(\"Auto.csv\")\n",
        "auto.info()"
      ],
      "metadata": {
        "colab": {
          "base_uri": "https://localhost:8080/",
          "height": 350
        },
        "id": "Bds96gmQnFpZ",
        "outputId": "2627dd0c-b0d1-4f37-e80f-5dd2db0d20e2"
      },
      "execution_count": 55,
      "outputs": [
        {
          "output_type": "display_data",
          "data": {
            "text/plain": [
              "<IPython.core.display.HTML object>"
            ],
            "text/html": [
              "\n",
              "     <input type=\"file\" id=\"files-ebff8da4-ff1c-471a-a04a-3b5c55a3dfe6\" name=\"files[]\" multiple disabled\n",
              "        style=\"border:none\" />\n",
              "     <output id=\"result-ebff8da4-ff1c-471a-a04a-3b5c55a3dfe6\">\n",
              "      Upload widget is only available when the cell has been executed in the\n",
              "      current browser session. Please rerun this cell to enable.\n",
              "      </output>\n",
              "      <script>// Copyright 2017 Google LLC\n",
              "//\n",
              "// Licensed under the Apache License, Version 2.0 (the \"License\");\n",
              "// you may not use this file except in compliance with the License.\n",
              "// You may obtain a copy of the License at\n",
              "//\n",
              "//      http://www.apache.org/licenses/LICENSE-2.0\n",
              "//\n",
              "// Unless required by applicable law or agreed to in writing, software\n",
              "// distributed under the License is distributed on an \"AS IS\" BASIS,\n",
              "// WITHOUT WARRANTIES OR CONDITIONS OF ANY KIND, either express or implied.\n",
              "// See the License for the specific language governing permissions and\n",
              "// limitations under the License.\n",
              "\n",
              "/**\n",
              " * @fileoverview Helpers for google.colab Python module.\n",
              " */\n",
              "(function(scope) {\n",
              "function span(text, styleAttributes = {}) {\n",
              "  const element = document.createElement('span');\n",
              "  element.textContent = text;\n",
              "  for (const key of Object.keys(styleAttributes)) {\n",
              "    element.style[key] = styleAttributes[key];\n",
              "  }\n",
              "  return element;\n",
              "}\n",
              "\n",
              "// Max number of bytes which will be uploaded at a time.\n",
              "const MAX_PAYLOAD_SIZE = 100 * 1024;\n",
              "\n",
              "function _uploadFiles(inputId, outputId) {\n",
              "  const steps = uploadFilesStep(inputId, outputId);\n",
              "  const outputElement = document.getElementById(outputId);\n",
              "  // Cache steps on the outputElement to make it available for the next call\n",
              "  // to uploadFilesContinue from Python.\n",
              "  outputElement.steps = steps;\n",
              "\n",
              "  return _uploadFilesContinue(outputId);\n",
              "}\n",
              "\n",
              "// This is roughly an async generator (not supported in the browser yet),\n",
              "// where there are multiple asynchronous steps and the Python side is going\n",
              "// to poll for completion of each step.\n",
              "// This uses a Promise to block the python side on completion of each step,\n",
              "// then passes the result of the previous step as the input to the next step.\n",
              "function _uploadFilesContinue(outputId) {\n",
              "  const outputElement = document.getElementById(outputId);\n",
              "  const steps = outputElement.steps;\n",
              "\n",
              "  const next = steps.next(outputElement.lastPromiseValue);\n",
              "  return Promise.resolve(next.value.promise).then((value) => {\n",
              "    // Cache the last promise value to make it available to the next\n",
              "    // step of the generator.\n",
              "    outputElement.lastPromiseValue = value;\n",
              "    return next.value.response;\n",
              "  });\n",
              "}\n",
              "\n",
              "/**\n",
              " * Generator function which is called between each async step of the upload\n",
              " * process.\n",
              " * @param {string} inputId Element ID of the input file picker element.\n",
              " * @param {string} outputId Element ID of the output display.\n",
              " * @return {!Iterable<!Object>} Iterable of next steps.\n",
              " */\n",
              "function* uploadFilesStep(inputId, outputId) {\n",
              "  const inputElement = document.getElementById(inputId);\n",
              "  inputElement.disabled = false;\n",
              "\n",
              "  const outputElement = document.getElementById(outputId);\n",
              "  outputElement.innerHTML = '';\n",
              "\n",
              "  const pickedPromise = new Promise((resolve) => {\n",
              "    inputElement.addEventListener('change', (e) => {\n",
              "      resolve(e.target.files);\n",
              "    });\n",
              "  });\n",
              "\n",
              "  const cancel = document.createElement('button');\n",
              "  inputElement.parentElement.appendChild(cancel);\n",
              "  cancel.textContent = 'Cancel upload';\n",
              "  const cancelPromise = new Promise((resolve) => {\n",
              "    cancel.onclick = () => {\n",
              "      resolve(null);\n",
              "    };\n",
              "  });\n",
              "\n",
              "  // Wait for the user to pick the files.\n",
              "  const files = yield {\n",
              "    promise: Promise.race([pickedPromise, cancelPromise]),\n",
              "    response: {\n",
              "      action: 'starting',\n",
              "    }\n",
              "  };\n",
              "\n",
              "  cancel.remove();\n",
              "\n",
              "  // Disable the input element since further picks are not allowed.\n",
              "  inputElement.disabled = true;\n",
              "\n",
              "  if (!files) {\n",
              "    return {\n",
              "      response: {\n",
              "        action: 'complete',\n",
              "      }\n",
              "    };\n",
              "  }\n",
              "\n",
              "  for (const file of files) {\n",
              "    const li = document.createElement('li');\n",
              "    li.append(span(file.name, {fontWeight: 'bold'}));\n",
              "    li.append(span(\n",
              "        `(${file.type || 'n/a'}) - ${file.size} bytes, ` +\n",
              "        `last modified: ${\n",
              "            file.lastModifiedDate ? file.lastModifiedDate.toLocaleDateString() :\n",
              "                                    'n/a'} - `));\n",
              "    const percent = span('0% done');\n",
              "    li.appendChild(percent);\n",
              "\n",
              "    outputElement.appendChild(li);\n",
              "\n",
              "    const fileDataPromise = new Promise((resolve) => {\n",
              "      const reader = new FileReader();\n",
              "      reader.onload = (e) => {\n",
              "        resolve(e.target.result);\n",
              "      };\n",
              "      reader.readAsArrayBuffer(file);\n",
              "    });\n",
              "    // Wait for the data to be ready.\n",
              "    let fileData = yield {\n",
              "      promise: fileDataPromise,\n",
              "      response: {\n",
              "        action: 'continue',\n",
              "      }\n",
              "    };\n",
              "\n",
              "    // Use a chunked sending to avoid message size limits. See b/62115660.\n",
              "    let position = 0;\n",
              "    do {\n",
              "      const length = Math.min(fileData.byteLength - position, MAX_PAYLOAD_SIZE);\n",
              "      const chunk = new Uint8Array(fileData, position, length);\n",
              "      position += length;\n",
              "\n",
              "      const base64 = btoa(String.fromCharCode.apply(null, chunk));\n",
              "      yield {\n",
              "        response: {\n",
              "          action: 'append',\n",
              "          file: file.name,\n",
              "          data: base64,\n",
              "        },\n",
              "      };\n",
              "\n",
              "      let percentDone = fileData.byteLength === 0 ?\n",
              "          100 :\n",
              "          Math.round((position / fileData.byteLength) * 100);\n",
              "      percent.textContent = `${percentDone}% done`;\n",
              "\n",
              "    } while (position < fileData.byteLength);\n",
              "  }\n",
              "\n",
              "  // All done.\n",
              "  yield {\n",
              "    response: {\n",
              "      action: 'complete',\n",
              "    }\n",
              "  };\n",
              "}\n",
              "\n",
              "scope.google = scope.google || {};\n",
              "scope.google.colab = scope.google.colab || {};\n",
              "scope.google.colab._files = {\n",
              "  _uploadFiles,\n",
              "  _uploadFilesContinue,\n",
              "};\n",
              "})(self);\n",
              "</script> "
            ]
          },
          "metadata": {}
        },
        {
          "output_type": "stream",
          "name": "stdout",
          "text": [
            "Saving Auto.csv to Auto (2).csv\n",
            "<class 'pandas.core.frame.DataFrame'>\n",
            "RangeIndex: 392 entries, 0 to 391\n",
            "Data columns (total 9 columns):\n",
            " #   Column        Non-Null Count  Dtype  \n",
            "---  ------        --------------  -----  \n",
            " 0   mpg           392 non-null    float64\n",
            " 1   cylinders     392 non-null    int64  \n",
            " 2   displacement  392 non-null    float64\n",
            " 3   horsepower    392 non-null    int64  \n",
            " 4   weight        392 non-null    int64  \n",
            " 5   acceleration  392 non-null    float64\n",
            " 6   year          392 non-null    int64  \n",
            " 7   origin        392 non-null    int64  \n",
            " 8   name          392 non-null    object \n",
            "dtypes: float64(3), int64(5), object(1)\n",
            "memory usage: 27.7+ KB\n"
          ]
        }
      ]
    },
    {
      "cell_type": "code",
      "source": [
        "# Question 2\n",
        "\n",
        "# Create and add a binary variable column called mpg_high_low to the dataset that is set to High if mpg is a value above 30,\n",
        "# and a Low if mpg is a value less than or equal to 30. Make sure the mpg_high_low column is of type category.\n",
        "\n",
        "# Create the binary 'mpg_high_low' column\n",
        "auto['mpg_high_low'] = ['High' if mpg > 30 else 'Low' for mpg in auto['mpg']]\n",
        "\n",
        "# Convert the column to category type\n",
        "auto['mpg_high_low'] = auto['mpg_high_low'].astype('category')\n",
        "\n",
        "# Preview the column and its type\n",
        "print(auto[['mpg', 'mpg_high_low']].head())\n",
        "print(f\"'mpg_high_low' type: {auto['mpg_high_low'].dtype}\")"
      ],
      "metadata": {
        "colab": {
          "base_uri": "https://localhost:8080/"
        },
        "id": "hjVj2DFcl1TE",
        "outputId": "26e596ab-fac7-4d8a-bc15-9f81cd2b844b"
      },
      "execution_count": 56,
      "outputs": [
        {
          "output_type": "stream",
          "name": "stdout",
          "text": [
            "    mpg mpg_high_low\n",
            "0  18.0          Low\n",
            "1  15.0          Low\n",
            "2  18.0          Low\n",
            "3  16.0          Low\n",
            "4  17.0          Low\n",
            "'mpg_high_low' type: category\n"
          ]
        }
      ]
    },
    {
      "cell_type": "code",
      "source": [
        "# Question 3\n",
        "\n",
        "# Check if the auto data is imbalanced with respect to mpg_high_low.\n",
        "# Report the percentage of the data that belong to the two classes (High and Low).\n",
        "\n",
        "# Solution\n",
        "\n",
        "# Count the proportion of each class\n",
        "class_distribution = auto['mpg_high_low'].value_counts(normalize=True)\n",
        "\n",
        "# Print the result with formatting\n",
        "print(\"Class distribution (in %):\")\n",
        "for label, pct in class_distribution.items():\n",
        "    print(f\"{label}: {pct:.2f}%\")"
      ],
      "metadata": {
        "colab": {
          "base_uri": "https://localhost:8080/"
        },
        "id": "MZHiGX9Ql1P8",
        "outputId": "adebcd82-aec6-4512-fba0-46ff308e6a14"
      },
      "execution_count": 57,
      "outputs": [
        {
          "output_type": "stream",
          "name": "stdout",
          "text": [
            "Class distribution (in %):\n",
            "Low: 0.79%\n",
            "High: 0.21%\n"
          ]
        }
      ]
    },
    {
      "cell_type": "code",
      "source": [
        "# Question 4\n",
        "\n",
        "# Split the dataset into 75% training and 25% test and use 10 fold cross validation for the models below.\n",
        "\n",
        "# Solution\n",
        "\n",
        "# Drop missing values to ensure model doesn't fail\n",
        "auto = auto.dropna()\n",
        "\n",
        "# Encode the binary target variable (Low=0, High=1)\n",
        "le = LabelEncoder()\n",
        "auto['mpg_high_low_encoded'] = le.fit_transform(auto['mpg_high_low'])\n",
        "\n",
        "# Define feature matrix X and target y\n",
        "# Drop 'mpg', 'name', and the target variables from X\n",
        "X = auto.drop(columns=['mpg_high_low', 'mpg_high_low_encoded', 'mpg', 'name'])\n",
        "y = auto['mpg_high_low_encoded']\n",
        "\n",
        "# Train-test split: 75% train, 25% test, stratified to maintain class balance\n",
        "X_train, X_test, y_train, y_test = train_test_split(X, y, test_size=0.25, random_state=42, stratify=y)"
      ],
      "metadata": {
        "id": "e78jJWBHrX1_"
      },
      "execution_count": 58,
      "outputs": []
    },
    {
      "cell_type": "code",
      "source": [
        "# At this point, X_train and y_train are ready for 10-fold CV\n",
        "# 10-fold cross-validation using logistic regression\n",
        "model = LogisticRegression(max_iter=1000)\n",
        "scores = cross_val_score(model, X_train, y_train, cv=10, scoring='accuracy')\n",
        "\n",
        "print(f\"10-fold CV Accuracy scores: {scores}\")\n",
        "print(f\"Mean CV Accuracy: {scores.mean():.2f}\")"
      ],
      "metadata": {
        "colab": {
          "base_uri": "https://localhost:8080/"
        },
        "id": "76Qn_Wl_Z6fe",
        "outputId": "f3d73532-1016-410b-8986-f4299425ed23"
      },
      "execution_count": 59,
      "outputs": [
        {
          "output_type": "stream",
          "name": "stdout",
          "text": [
            "10-fold CV Accuracy scores: [0.96666667 0.96666667 0.93333333 0.93333333 0.93103448 0.96551724\n",
            " 0.93103448 0.86206897 0.96551724 0.86206897]\n",
            "Mean CV Accuracy: 0.93\n"
          ]
        }
      ]
    },
    {
      "cell_type": "code",
      "source": [
        "# Question 5\n",
        "\n",
        "# Fit a logistic regression model to the training set to predict mpg_high_low using all the other features/variables except mpg, year,\n",
        "# origin, and name. Predict the mpg_high_low using the test dataset and report the Accuracy, Precision, Recall, Specificity, and F1 measure.\n",
        "\n",
        "# Solution\n",
        "\n",
        "# Features and Target Setup\n",
        "\n",
        "# Drop unnecessary columns\n",
        "features_to_drop = ['mpg', 'year', 'origin', 'name', 'mpg_high_low', 'mpg_high_low_encoded']\n",
        "X = auto.drop(columns=features_to_drop)\n",
        "y = auto['mpg_high_low_encoded']\n",
        "\n",
        "# Train-test split (already done in Q4, but we can repeat)\n",
        "X_train, X_test, y_train, y_test = train_test_split(X, y, test_size=0.25, random_state=42, stratify=y)\n",
        "\n",
        "\n",
        "# Fit Logistic Regression\n",
        "log_reg = LogisticRegression(max_iter=1000)\n",
        "log_reg.fit(X_train, y_train)"
      ],
      "metadata": {
        "colab": {
          "base_uri": "https://localhost:8080/",
          "height": 80
        },
        "id": "tUe-2efusEy3",
        "outputId": "3dd57238-65fd-485c-db54-a5b1fa26c7f4"
      },
      "execution_count": 60,
      "outputs": [
        {
          "output_type": "execute_result",
          "data": {
            "text/plain": [
              "LogisticRegression(max_iter=1000)"
            ],
            "text/html": [
              "<style>#sk-container-id-3 {\n",
              "  /* Definition of color scheme common for light and dark mode */\n",
              "  --sklearn-color-text: #000;\n",
              "  --sklearn-color-text-muted: #666;\n",
              "  --sklearn-color-line: gray;\n",
              "  /* Definition of color scheme for unfitted estimators */\n",
              "  --sklearn-color-unfitted-level-0: #fff5e6;\n",
              "  --sklearn-color-unfitted-level-1: #f6e4d2;\n",
              "  --sklearn-color-unfitted-level-2: #ffe0b3;\n",
              "  --sklearn-color-unfitted-level-3: chocolate;\n",
              "  /* Definition of color scheme for fitted estimators */\n",
              "  --sklearn-color-fitted-level-0: #f0f8ff;\n",
              "  --sklearn-color-fitted-level-1: #d4ebff;\n",
              "  --sklearn-color-fitted-level-2: #b3dbfd;\n",
              "  --sklearn-color-fitted-level-3: cornflowerblue;\n",
              "\n",
              "  /* Specific color for light theme */\n",
              "  --sklearn-color-text-on-default-background: var(--sg-text-color, var(--theme-code-foreground, var(--jp-content-font-color1, black)));\n",
              "  --sklearn-color-background: var(--sg-background-color, var(--theme-background, var(--jp-layout-color0, white)));\n",
              "  --sklearn-color-border-box: var(--sg-text-color, var(--theme-code-foreground, var(--jp-content-font-color1, black)));\n",
              "  --sklearn-color-icon: #696969;\n",
              "\n",
              "  @media (prefers-color-scheme: dark) {\n",
              "    /* Redefinition of color scheme for dark theme */\n",
              "    --sklearn-color-text-on-default-background: var(--sg-text-color, var(--theme-code-foreground, var(--jp-content-font-color1, white)));\n",
              "    --sklearn-color-background: var(--sg-background-color, var(--theme-background, var(--jp-layout-color0, #111)));\n",
              "    --sklearn-color-border-box: var(--sg-text-color, var(--theme-code-foreground, var(--jp-content-font-color1, white)));\n",
              "    --sklearn-color-icon: #878787;\n",
              "  }\n",
              "}\n",
              "\n",
              "#sk-container-id-3 {\n",
              "  color: var(--sklearn-color-text);\n",
              "}\n",
              "\n",
              "#sk-container-id-3 pre {\n",
              "  padding: 0;\n",
              "}\n",
              "\n",
              "#sk-container-id-3 input.sk-hidden--visually {\n",
              "  border: 0;\n",
              "  clip: rect(1px 1px 1px 1px);\n",
              "  clip: rect(1px, 1px, 1px, 1px);\n",
              "  height: 1px;\n",
              "  margin: -1px;\n",
              "  overflow: hidden;\n",
              "  padding: 0;\n",
              "  position: absolute;\n",
              "  width: 1px;\n",
              "}\n",
              "\n",
              "#sk-container-id-3 div.sk-dashed-wrapped {\n",
              "  border: 1px dashed var(--sklearn-color-line);\n",
              "  margin: 0 0.4em 0.5em 0.4em;\n",
              "  box-sizing: border-box;\n",
              "  padding-bottom: 0.4em;\n",
              "  background-color: var(--sklearn-color-background);\n",
              "}\n",
              "\n",
              "#sk-container-id-3 div.sk-container {\n",
              "  /* jupyter's `normalize.less` sets `[hidden] { display: none; }`\n",
              "     but bootstrap.min.css set `[hidden] { display: none !important; }`\n",
              "     so we also need the `!important` here to be able to override the\n",
              "     default hidden behavior on the sphinx rendered scikit-learn.org.\n",
              "     See: https://github.com/scikit-learn/scikit-learn/issues/21755 */\n",
              "  display: inline-block !important;\n",
              "  position: relative;\n",
              "}\n",
              "\n",
              "#sk-container-id-3 div.sk-text-repr-fallback {\n",
              "  display: none;\n",
              "}\n",
              "\n",
              "div.sk-parallel-item,\n",
              "div.sk-serial,\n",
              "div.sk-item {\n",
              "  /* draw centered vertical line to link estimators */\n",
              "  background-image: linear-gradient(var(--sklearn-color-text-on-default-background), var(--sklearn-color-text-on-default-background));\n",
              "  background-size: 2px 100%;\n",
              "  background-repeat: no-repeat;\n",
              "  background-position: center center;\n",
              "}\n",
              "\n",
              "/* Parallel-specific style estimator block */\n",
              "\n",
              "#sk-container-id-3 div.sk-parallel-item::after {\n",
              "  content: \"\";\n",
              "  width: 100%;\n",
              "  border-bottom: 2px solid var(--sklearn-color-text-on-default-background);\n",
              "  flex-grow: 1;\n",
              "}\n",
              "\n",
              "#sk-container-id-3 div.sk-parallel {\n",
              "  display: flex;\n",
              "  align-items: stretch;\n",
              "  justify-content: center;\n",
              "  background-color: var(--sklearn-color-background);\n",
              "  position: relative;\n",
              "}\n",
              "\n",
              "#sk-container-id-3 div.sk-parallel-item {\n",
              "  display: flex;\n",
              "  flex-direction: column;\n",
              "}\n",
              "\n",
              "#sk-container-id-3 div.sk-parallel-item:first-child::after {\n",
              "  align-self: flex-end;\n",
              "  width: 50%;\n",
              "}\n",
              "\n",
              "#sk-container-id-3 div.sk-parallel-item:last-child::after {\n",
              "  align-self: flex-start;\n",
              "  width: 50%;\n",
              "}\n",
              "\n",
              "#sk-container-id-3 div.sk-parallel-item:only-child::after {\n",
              "  width: 0;\n",
              "}\n",
              "\n",
              "/* Serial-specific style estimator block */\n",
              "\n",
              "#sk-container-id-3 div.sk-serial {\n",
              "  display: flex;\n",
              "  flex-direction: column;\n",
              "  align-items: center;\n",
              "  background-color: var(--sklearn-color-background);\n",
              "  padding-right: 1em;\n",
              "  padding-left: 1em;\n",
              "}\n",
              "\n",
              "\n",
              "/* Toggleable style: style used for estimator/Pipeline/ColumnTransformer box that is\n",
              "clickable and can be expanded/collapsed.\n",
              "- Pipeline and ColumnTransformer use this feature and define the default style\n",
              "- Estimators will overwrite some part of the style using the `sk-estimator` class\n",
              "*/\n",
              "\n",
              "/* Pipeline and ColumnTransformer style (default) */\n",
              "\n",
              "#sk-container-id-3 div.sk-toggleable {\n",
              "  /* Default theme specific background. It is overwritten whether we have a\n",
              "  specific estimator or a Pipeline/ColumnTransformer */\n",
              "  background-color: var(--sklearn-color-background);\n",
              "}\n",
              "\n",
              "/* Toggleable label */\n",
              "#sk-container-id-3 label.sk-toggleable__label {\n",
              "  cursor: pointer;\n",
              "  display: flex;\n",
              "  width: 100%;\n",
              "  margin-bottom: 0;\n",
              "  padding: 0.5em;\n",
              "  box-sizing: border-box;\n",
              "  text-align: center;\n",
              "  align-items: start;\n",
              "  justify-content: space-between;\n",
              "  gap: 0.5em;\n",
              "}\n",
              "\n",
              "#sk-container-id-3 label.sk-toggleable__label .caption {\n",
              "  font-size: 0.6rem;\n",
              "  font-weight: lighter;\n",
              "  color: var(--sklearn-color-text-muted);\n",
              "}\n",
              "\n",
              "#sk-container-id-3 label.sk-toggleable__label-arrow:before {\n",
              "  /* Arrow on the left of the label */\n",
              "  content: \"▸\";\n",
              "  float: left;\n",
              "  margin-right: 0.25em;\n",
              "  color: var(--sklearn-color-icon);\n",
              "}\n",
              "\n",
              "#sk-container-id-3 label.sk-toggleable__label-arrow:hover:before {\n",
              "  color: var(--sklearn-color-text);\n",
              "}\n",
              "\n",
              "/* Toggleable content - dropdown */\n",
              "\n",
              "#sk-container-id-3 div.sk-toggleable__content {\n",
              "  max-height: 0;\n",
              "  max-width: 0;\n",
              "  overflow: hidden;\n",
              "  text-align: left;\n",
              "  /* unfitted */\n",
              "  background-color: var(--sklearn-color-unfitted-level-0);\n",
              "}\n",
              "\n",
              "#sk-container-id-3 div.sk-toggleable__content.fitted {\n",
              "  /* fitted */\n",
              "  background-color: var(--sklearn-color-fitted-level-0);\n",
              "}\n",
              "\n",
              "#sk-container-id-3 div.sk-toggleable__content pre {\n",
              "  margin: 0.2em;\n",
              "  border-radius: 0.25em;\n",
              "  color: var(--sklearn-color-text);\n",
              "  /* unfitted */\n",
              "  background-color: var(--sklearn-color-unfitted-level-0);\n",
              "}\n",
              "\n",
              "#sk-container-id-3 div.sk-toggleable__content.fitted pre {\n",
              "  /* unfitted */\n",
              "  background-color: var(--sklearn-color-fitted-level-0);\n",
              "}\n",
              "\n",
              "#sk-container-id-3 input.sk-toggleable__control:checked~div.sk-toggleable__content {\n",
              "  /* Expand drop-down */\n",
              "  max-height: 200px;\n",
              "  max-width: 100%;\n",
              "  overflow: auto;\n",
              "}\n",
              "\n",
              "#sk-container-id-3 input.sk-toggleable__control:checked~label.sk-toggleable__label-arrow:before {\n",
              "  content: \"▾\";\n",
              "}\n",
              "\n",
              "/* Pipeline/ColumnTransformer-specific style */\n",
              "\n",
              "#sk-container-id-3 div.sk-label input.sk-toggleable__control:checked~label.sk-toggleable__label {\n",
              "  color: var(--sklearn-color-text);\n",
              "  background-color: var(--sklearn-color-unfitted-level-2);\n",
              "}\n",
              "\n",
              "#sk-container-id-3 div.sk-label.fitted input.sk-toggleable__control:checked~label.sk-toggleable__label {\n",
              "  background-color: var(--sklearn-color-fitted-level-2);\n",
              "}\n",
              "\n",
              "/* Estimator-specific style */\n",
              "\n",
              "/* Colorize estimator box */\n",
              "#sk-container-id-3 div.sk-estimator input.sk-toggleable__control:checked~label.sk-toggleable__label {\n",
              "  /* unfitted */\n",
              "  background-color: var(--sklearn-color-unfitted-level-2);\n",
              "}\n",
              "\n",
              "#sk-container-id-3 div.sk-estimator.fitted input.sk-toggleable__control:checked~label.sk-toggleable__label {\n",
              "  /* fitted */\n",
              "  background-color: var(--sklearn-color-fitted-level-2);\n",
              "}\n",
              "\n",
              "#sk-container-id-3 div.sk-label label.sk-toggleable__label,\n",
              "#sk-container-id-3 div.sk-label label {\n",
              "  /* The background is the default theme color */\n",
              "  color: var(--sklearn-color-text-on-default-background);\n",
              "}\n",
              "\n",
              "/* On hover, darken the color of the background */\n",
              "#sk-container-id-3 div.sk-label:hover label.sk-toggleable__label {\n",
              "  color: var(--sklearn-color-text);\n",
              "  background-color: var(--sklearn-color-unfitted-level-2);\n",
              "}\n",
              "\n",
              "/* Label box, darken color on hover, fitted */\n",
              "#sk-container-id-3 div.sk-label.fitted:hover label.sk-toggleable__label.fitted {\n",
              "  color: var(--sklearn-color-text);\n",
              "  background-color: var(--sklearn-color-fitted-level-2);\n",
              "}\n",
              "\n",
              "/* Estimator label */\n",
              "\n",
              "#sk-container-id-3 div.sk-label label {\n",
              "  font-family: monospace;\n",
              "  font-weight: bold;\n",
              "  display: inline-block;\n",
              "  line-height: 1.2em;\n",
              "}\n",
              "\n",
              "#sk-container-id-3 div.sk-label-container {\n",
              "  text-align: center;\n",
              "}\n",
              "\n",
              "/* Estimator-specific */\n",
              "#sk-container-id-3 div.sk-estimator {\n",
              "  font-family: monospace;\n",
              "  border: 1px dotted var(--sklearn-color-border-box);\n",
              "  border-radius: 0.25em;\n",
              "  box-sizing: border-box;\n",
              "  margin-bottom: 0.5em;\n",
              "  /* unfitted */\n",
              "  background-color: var(--sklearn-color-unfitted-level-0);\n",
              "}\n",
              "\n",
              "#sk-container-id-3 div.sk-estimator.fitted {\n",
              "  /* fitted */\n",
              "  background-color: var(--sklearn-color-fitted-level-0);\n",
              "}\n",
              "\n",
              "/* on hover */\n",
              "#sk-container-id-3 div.sk-estimator:hover {\n",
              "  /* unfitted */\n",
              "  background-color: var(--sklearn-color-unfitted-level-2);\n",
              "}\n",
              "\n",
              "#sk-container-id-3 div.sk-estimator.fitted:hover {\n",
              "  /* fitted */\n",
              "  background-color: var(--sklearn-color-fitted-level-2);\n",
              "}\n",
              "\n",
              "/* Specification for estimator info (e.g. \"i\" and \"?\") */\n",
              "\n",
              "/* Common style for \"i\" and \"?\" */\n",
              "\n",
              ".sk-estimator-doc-link,\n",
              "a:link.sk-estimator-doc-link,\n",
              "a:visited.sk-estimator-doc-link {\n",
              "  float: right;\n",
              "  font-size: smaller;\n",
              "  line-height: 1em;\n",
              "  font-family: monospace;\n",
              "  background-color: var(--sklearn-color-background);\n",
              "  border-radius: 1em;\n",
              "  height: 1em;\n",
              "  width: 1em;\n",
              "  text-decoration: none !important;\n",
              "  margin-left: 0.5em;\n",
              "  text-align: center;\n",
              "  /* unfitted */\n",
              "  border: var(--sklearn-color-unfitted-level-1) 1pt solid;\n",
              "  color: var(--sklearn-color-unfitted-level-1);\n",
              "}\n",
              "\n",
              ".sk-estimator-doc-link.fitted,\n",
              "a:link.sk-estimator-doc-link.fitted,\n",
              "a:visited.sk-estimator-doc-link.fitted {\n",
              "  /* fitted */\n",
              "  border: var(--sklearn-color-fitted-level-1) 1pt solid;\n",
              "  color: var(--sklearn-color-fitted-level-1);\n",
              "}\n",
              "\n",
              "/* On hover */\n",
              "div.sk-estimator:hover .sk-estimator-doc-link:hover,\n",
              ".sk-estimator-doc-link:hover,\n",
              "div.sk-label-container:hover .sk-estimator-doc-link:hover,\n",
              ".sk-estimator-doc-link:hover {\n",
              "  /* unfitted */\n",
              "  background-color: var(--sklearn-color-unfitted-level-3);\n",
              "  color: var(--sklearn-color-background);\n",
              "  text-decoration: none;\n",
              "}\n",
              "\n",
              "div.sk-estimator.fitted:hover .sk-estimator-doc-link.fitted:hover,\n",
              ".sk-estimator-doc-link.fitted:hover,\n",
              "div.sk-label-container:hover .sk-estimator-doc-link.fitted:hover,\n",
              ".sk-estimator-doc-link.fitted:hover {\n",
              "  /* fitted */\n",
              "  background-color: var(--sklearn-color-fitted-level-3);\n",
              "  color: var(--sklearn-color-background);\n",
              "  text-decoration: none;\n",
              "}\n",
              "\n",
              "/* Span, style for the box shown on hovering the info icon */\n",
              ".sk-estimator-doc-link span {\n",
              "  display: none;\n",
              "  z-index: 9999;\n",
              "  position: relative;\n",
              "  font-weight: normal;\n",
              "  right: .2ex;\n",
              "  padding: .5ex;\n",
              "  margin: .5ex;\n",
              "  width: min-content;\n",
              "  min-width: 20ex;\n",
              "  max-width: 50ex;\n",
              "  color: var(--sklearn-color-text);\n",
              "  box-shadow: 2pt 2pt 4pt #999;\n",
              "  /* unfitted */\n",
              "  background: var(--sklearn-color-unfitted-level-0);\n",
              "  border: .5pt solid var(--sklearn-color-unfitted-level-3);\n",
              "}\n",
              "\n",
              ".sk-estimator-doc-link.fitted span {\n",
              "  /* fitted */\n",
              "  background: var(--sklearn-color-fitted-level-0);\n",
              "  border: var(--sklearn-color-fitted-level-3);\n",
              "}\n",
              "\n",
              ".sk-estimator-doc-link:hover span {\n",
              "  display: block;\n",
              "}\n",
              "\n",
              "/* \"?\"-specific style due to the `<a>` HTML tag */\n",
              "\n",
              "#sk-container-id-3 a.estimator_doc_link {\n",
              "  float: right;\n",
              "  font-size: 1rem;\n",
              "  line-height: 1em;\n",
              "  font-family: monospace;\n",
              "  background-color: var(--sklearn-color-background);\n",
              "  border-radius: 1rem;\n",
              "  height: 1rem;\n",
              "  width: 1rem;\n",
              "  text-decoration: none;\n",
              "  /* unfitted */\n",
              "  color: var(--sklearn-color-unfitted-level-1);\n",
              "  border: var(--sklearn-color-unfitted-level-1) 1pt solid;\n",
              "}\n",
              "\n",
              "#sk-container-id-3 a.estimator_doc_link.fitted {\n",
              "  /* fitted */\n",
              "  border: var(--sklearn-color-fitted-level-1) 1pt solid;\n",
              "  color: var(--sklearn-color-fitted-level-1);\n",
              "}\n",
              "\n",
              "/* On hover */\n",
              "#sk-container-id-3 a.estimator_doc_link:hover {\n",
              "  /* unfitted */\n",
              "  background-color: var(--sklearn-color-unfitted-level-3);\n",
              "  color: var(--sklearn-color-background);\n",
              "  text-decoration: none;\n",
              "}\n",
              "\n",
              "#sk-container-id-3 a.estimator_doc_link.fitted:hover {\n",
              "  /* fitted */\n",
              "  background-color: var(--sklearn-color-fitted-level-3);\n",
              "}\n",
              "</style><div id=\"sk-container-id-3\" class=\"sk-top-container\"><div class=\"sk-text-repr-fallback\"><pre>LogisticRegression(max_iter=1000)</pre><b>In a Jupyter environment, please rerun this cell to show the HTML representation or trust the notebook. <br />On GitHub, the HTML representation is unable to render, please try loading this page with nbviewer.org.</b></div><div class=\"sk-container\" hidden><div class=\"sk-item\"><div class=\"sk-estimator fitted sk-toggleable\"><input class=\"sk-toggleable__control sk-hidden--visually\" id=\"sk-estimator-id-3\" type=\"checkbox\" checked><label for=\"sk-estimator-id-3\" class=\"sk-toggleable__label fitted sk-toggleable__label-arrow\"><div><div>LogisticRegression</div></div><div><a class=\"sk-estimator-doc-link fitted\" rel=\"noreferrer\" target=\"_blank\" href=\"https://scikit-learn.org/1.6/modules/generated/sklearn.linear_model.LogisticRegression.html\">?<span>Documentation for LogisticRegression</span></a><span class=\"sk-estimator-doc-link fitted\">i<span>Fitted</span></span></div></label><div class=\"sk-toggleable__content fitted\"><pre>LogisticRegression(max_iter=1000)</pre></div> </div></div></div></div>"
            ]
          },
          "metadata": {},
          "execution_count": 60
        }
      ]
    },
    {
      "cell_type": "code",
      "source": [
        "# Predict & Evaluate\n",
        "y_pred = log_reg.predict(X_test)\n",
        "\n",
        "# Confusion matrix\n",
        "cm = confusion_matrix(y_test, y_pred)\n",
        "tn, fp, fn, tp = cm.ravel()\n",
        "\n",
        "# Evaluation metrics\n",
        "accuracy = accuracy_score(y_test, y_pred)\n",
        "precision = precision_score(y_test, y_pred)\n",
        "recall = recall_score(y_test, y_pred)\n",
        "f1 = f1_score(y_test, y_pred)\n",
        "specificity = tn / (tn + fp)\n",
        "\n",
        "# Report Results\n",
        "print(\"Confusion Matrix:\")\n",
        "print(cm)\n",
        "print(\"\\nEvaluation Metrics:\")\n",
        "print(f\"Accuracy    : {accuracy:.2f}\")\n",
        "print(f\"Precision   : {precision:.2f}\")\n",
        "print(f\"Recall      : {recall:.2f}\")\n",
        "print(f\"Specificity : {specificity:.2f}\")\n",
        "print(f\"F1 Score    : {f1:.2f}\")"
      ],
      "metadata": {
        "colab": {
          "base_uri": "https://localhost:8080/"
        },
        "id": "OutNwF3eICky",
        "outputId": "80f8864c-08e5-4c07-e264-06b21b2154de"
      },
      "execution_count": 61,
      "outputs": [
        {
          "output_type": "stream",
          "name": "stdout",
          "text": [
            "Confusion Matrix:\n",
            "[[13  8]\n",
            " [ 4 73]]\n",
            "\n",
            "Evaluation Metrics:\n",
            "Accuracy    : 0.88\n",
            "Precision   : 0.90\n",
            "Recall      : 0.95\n",
            "Specificity : 0.62\n",
            "F1 Score    : 0.92\n"
          ]
        }
      ]
    },
    {
      "cell_type": "code",
      "source": [
        "# Question 6\n",
        "\n",
        "# Alter the threshold for classifying a Low to 0.6 and report the changes in the test performance metrics from those reported in Qn 5.\n",
        "\n",
        "# Solution\n",
        "\n",
        "# Predict class probabilities for class \"High\" (1)\n",
        "y_prob = log_reg.predict_proba(X_test)[:, 1]\n",
        "\n",
        "# Apply new threshold: classify as \"High\" if prob > 0.6\n",
        "y_pred_thresh_0_6 = (y_prob > 0.6).astype(int)"
      ],
      "metadata": {
        "id": "5SMk3NeXvf-O"
      },
      "execution_count": 62,
      "outputs": []
    },
    {
      "cell_type": "code",
      "source": [
        "# Recalculate Metrics\n",
        "\n",
        "# Confusion matrix for new threshold\n",
        "cm_thresh = confusion_matrix(y_test, y_pred_thresh_0_6)\n",
        "tn, fp, fn, tp = cm_thresh.ravel()\n",
        "\n",
        "# Evaluation metrics\n",
        "accuracy_06 = accuracy_score(y_test, y_pred_thresh_0_6)\n",
        "precision_06 = precision_score(y_test, y_pred_thresh_0_6)\n",
        "recall_06 = recall_score(y_test, y_pred_thresh_0_6)\n",
        "specificity_06 = tn / (tn + fp)\n",
        "f1_06 = f1_score(y_test, y_pred_thresh_0_6)\n",
        "\n",
        "# Display results\n",
        "print(\"Confusion Matrix (Threshold = 0.6):\")\n",
        "print(cm_thresh)\n",
        "\n",
        "print(\"\\nUpdated Evaluation Metrics (Threshold = 0.6):\")\n",
        "print(f\"Accuracy    : {accuracy_06:.2f}\")\n",
        "print(f\"Precision   : {precision_06:.2f}\")\n",
        "print(f\"Recall      : {recall_06:.2f}\")\n",
        "print(f\"Specificity : {specificity_06:.2f}\")\n",
        "print(f\"F1 Score    : {f1_06:.2f}\")"
      ],
      "metadata": {
        "colab": {
          "base_uri": "https://localhost:8080/"
        },
        "id": "OILKthb9K4zU",
        "outputId": "ccbb7395-7d2f-4bac-ee9a-fd30a33d9772"
      },
      "execution_count": 63,
      "outputs": [
        {
          "output_type": "stream",
          "name": "stdout",
          "text": [
            "Confusion Matrix (Threshold = 0.6):\n",
            "[[14  7]\n",
            " [ 6 71]]\n",
            "\n",
            "Updated Evaluation Metrics (Threshold = 0.6):\n",
            "Accuracy    : 0.87\n",
            "Precision   : 0.91\n",
            "Recall      : 0.92\n",
            "Specificity : 0.67\n",
            "F1 Score    : 0.92\n"
          ]
        }
      ]
    },
    {
      "cell_type": "code",
      "source": [
        "# Question 7\n",
        "\n",
        "# Find the optimal threshold by drawing the ROC curve. Change the threshold to the optimal value you found from the ROC curve\n",
        "# and report the changes in the test performance metrics from those reported in Qn 5.\n",
        "\n",
        "# Solution\n",
        "\n",
        "# Predict probabilities for class \"High\"\n",
        "y_prob = log_reg.predict_proba(X_test)[:, 1]\n",
        "\n",
        "# Calculate FPR, TPR and thresholds\n",
        "fpr, tpr, thresholds = roc_curve(y_test, y_prob)\n",
        "\n",
        "# Find optimal threshold (closest point to (0,1))\n",
        "distance = np.sqrt((1 - tpr)**2 + fpr**2)\n",
        "optimal_idx = np.argmin(distance)\n",
        "optimal_threshold = thresholds[optimal_idx]\n",
        "\n",
        "# Compute AUC\n",
        "roc_auc = auc(fpr, tpr)\n",
        "\n",
        "# Plot ROC Curve\n",
        "plt.figure(figsize=(8, 6))\n",
        "plt.plot(fpr, tpr, label=f'ROC curve (AUC = {roc_auc:.2f})')\n",
        "plt.scatter(fpr[optimal_idx], tpr[optimal_idx], color='red', label=f'Optimal Threshold = {optimal_threshold:.2f}')\n",
        "plt.plot([0, 1], [0, 1], 'k--')\n",
        "plt.xlabel('False Positive Rate')\n",
        "plt.ylabel('True Positive Rate (Recall)')\n",
        "plt.title('ROC Curve')\n",
        "plt.legend()\n",
        "plt.grid(True)\n",
        "plt.show()"
      ],
      "metadata": {
        "id": "NTxdz62qvfSp",
        "colab": {
          "base_uri": "https://localhost:8080/",
          "height": 564
        },
        "outputId": "a4c98731-bdcc-4066-949e-3e7686e0642f"
      },
      "execution_count": 64,
      "outputs": [
        {
          "output_type": "display_data",
          "data": {
            "text/plain": [
              "<Figure size 800x600 with 1 Axes>"
            ],
            "image/png": "[encoded data removed]"
          },
          "metadata": {}
        }
      ]
    },
    {
      "cell_type": "code",
      "source": [
        "# Predict using the optimal threshold\n",
        "y_pred_optimal = (y_prob > optimal_threshold).astype(int)\n",
        "\n",
        "# Confusion matrix\n",
        "cm_opt = confusion_matrix(y_test, y_pred_optimal)\n",
        "tn, fp, fn, tp = cm_opt.ravel()\n",
        "\n",
        "# Evaluation metrics\n",
        "accuracy_opt = accuracy_score(y_test, y_pred_optimal)\n",
        "precision_opt = precision_score(y_test, y_pred_optimal)\n",
        "recall_opt = recall_score(y_test, y_pred_optimal)\n",
        "specificity_opt = tn / (tn + fp)\n",
        "f1_opt = f1_score(y_test, y_pred_optimal)\n",
        "\n",
        "# Report Results\n",
        "print(\"Confusion Matrix (Optimal Threshold):\")\n",
        "print(cm_opt)\n",
        "print(f\"\\nOptimal Threshold: {optimal_threshold:.2f}\")\n",
        "print(\"\\nEvaluation Metrics:\")\n",
        "print(f\"Accuracy    : {accuracy_opt:.2f}\")\n",
        "print(f\"Precision   : {precision_opt:.2f}\")\n",
        "print(f\"Recall      : {recall_opt:.2f}\")\n",
        "print(f\"Specificity : {specificity_opt:.2f}\")\n",
        "print(f\"F1 Score    : {f1_opt:.2f}\")"
      ],
      "metadata": {
        "colab": {
          "base_uri": "https://localhost:8080/"
        },
        "id": "HzbvyRBWDxgI",
        "outputId": "c76e30f1-55d5-487a-91d7-90f3124be0ea"
      },
      "execution_count": 65,
      "outputs": [
        {
          "output_type": "stream",
          "name": "stdout",
          "text": [
            "Confusion Matrix (Optimal Threshold):\n",
            "[[19  2]\n",
            " [16 61]]\n",
            "\n",
            "Optimal Threshold: 0.87\n",
            "\n",
            "Evaluation Metrics:\n",
            "Accuracy    : 0.82\n",
            "Precision   : 0.97\n",
            "Recall      : 0.79\n",
            "Specificity : 0.90\n",
            "F1 Score    : 0.87\n"
          ]
        }
      ]
    },
    {
      "cell_type": "code",
      "source": [
        "# Question 8\n",
        "\n",
        "# Fit a Naïve Bayes model to the training data to predict mpg_high_low using all the other features/variables except mpg, year, origin, and name.\n",
        "# Predict the mpg_high_low using the test dataset. Plot the ROC curve and report the best threshold on the ROC curve plot.\n",
        "# Report the AUC on the curve plot as well. Report the accuracy, precision, recall, specificity and F1 score.\n",
        "\n",
        "# Solution\n",
        "\n",
        "# Fit Naïve Bayes and 10-fold Cross-Validation on training set\n",
        "nb = GaussianNB()\n",
        "cv_score_nb = cross_val_score(nb, X_train, y_train, cv=10, scoring='accuracy')\n",
        "print(\"Naïve Bayes 10-Fold CV Accuracy (training set):\", cv_score_nb.mean())\n",
        "\n",
        "# Fit on full training set and predict on test set\n",
        "nb.fit(X_train, y_train)\n",
        "y_prob_nb = nb.predict_proba(X_test)[:, 1]"
      ],
      "metadata": {
        "colab": {
          "base_uri": "https://localhost:8080/"
        },
        "id": "c3Z6_55EngkP",
        "outputId": "fdf20b42-ee9b-468d-f3db-76e7dfc2197a"
      },
      "execution_count": 66,
      "outputs": [
        {
          "output_type": "stream",
          "name": "stdout",
          "text": [
            "Naïve Bayes 10-Fold CV Accuracy (training set): 0.7647126436781609\n"
          ]
        }
      ]
    },
    {
      "cell_type": "code",
      "source": [
        "# ROC curve and AUC\n",
        "fpr, tpr, thresholds = roc_curve(y_test, y_prob_nb)\n",
        "roc_auc = auc(fpr, tpr)\n",
        "\n",
        "plt.figure()\n",
        "plt.plot(fpr, tpr, label=f\"ROC Curve (AUC = {roc_auc:.2f})\")\n",
        "plt.plot([0, 1], [0, 1], linestyle='--')\n",
        "plt.xlabel(\"False Positive Rate\")\n",
        "plt.ylabel(\"True Positive Rate\")\n",
        "plt.title(\"Naïve Bayes – ROC Curve\")\n",
        "plt.legend(loc=\"lower right\")\n",
        "plt.grid(True)\n",
        "plt.show()\n",
        "\n",
        "# Find best threshold (closest to top-left)\n",
        "best_idx = np.argmax(tpr - fpr)\n",
        "best_threshold = thresholds[best_idx]\n",
        "print(\"Best Threshold (from ROC):\", best_threshold)\n",
        "\n",
        "# Predict with best threshold\n",
        "y_pred_best = (y_prob_nb >= best_threshold).astype(int)"
      ],
      "metadata": {
        "colab": {
          "base_uri": "https://localhost:8080/",
          "height": 489
        },
        "id": "ahE91698ngdT",
        "outputId": "c0f9bd54-4075-4652-ddd1-6b25671b0956"
      },
      "execution_count": 67,
      "outputs": [
        {
          "output_type": "display_data",
          "data": {
            "text/plain": [
              "<Figure size 640x480 with 1 Axes>"
            ],
            "image/png": "[encoded data removed]"
          },
          "metadata": {}
        },
        {
          "output_type": "stream",
          "name": "stdout",
          "text": [
            "Best Threshold (from ROC): 0.018117791549848446\n"
          ]
        }
      ]
    },
    {
      "cell_type": "code",
      "source": [
        "# Report classification metrics\n",
        "print(\"\\nNaïve Bayes Test Set Performance (with best threshold):\")\n",
        "print(classification_report(y_test, y_pred_best, target_names=['Low', 'High']))\n",
        "\n",
        "\n",
        "# Evaluation metrics\n",
        "accuracy_nb = accuracy_score(y_test, y_pred_best)\n",
        "precision_nb = precision_score(y_test, y_pred_best)\n",
        "recall_nb = recall_score(y_test, y_pred_best)\n",
        "f1_nb = f1_score(y_test, y_pred_best)\n",
        "specificity_nb = tn / (tn + fp)\n",
        "\n",
        "# Calculate and print specificity\n",
        "cm = confusion_matrix(y_test, y_pred_best)\n",
        "tn, fp, fn, tp = cm.ravel()\n",
        "specificity = tn / (tn + fp)\n",
        "print(\"Specificity:\", specificity)"
      ],
      "metadata": {
        "colab": {
          "base_uri": "https://localhost:8080/"
        },
        "id": "5gOdKtxtngTJ",
        "outputId": "08c244d2-6c33-49e5-b087-cd3c2eb17652"
      },
      "execution_count": 68,
      "outputs": [
        {
          "output_type": "stream",
          "name": "stdout",
          "text": [
            "\n",
            "Naïve Bayes Test Set Performance (with best threshold):\n",
            "              precision    recall  f1-score   support\n",
            "\n",
            "         Low       0.63      0.81      0.71        21\n",
            "        High       0.94      0.87      0.91        77\n",
            "\n",
            "    accuracy                           0.86        98\n",
            "   macro avg       0.79      0.84      0.81        98\n",
            "weighted avg       0.88      0.86      0.86        98\n",
            "\n",
            "Specificity: 0.8095238095238095\n"
          ]
        }
      ]
    },
    {
      "cell_type": "code",
      "source": [
        "# Question 9\n",
        "\n",
        "# Fit a KNN model to the training data to predict mpg_high_low using all the other features/variables except mpg, year, origin, and name.\n",
        "# Use a grid search between 3 and 10 to find the best value of k. Report the accuracy, precision, recall, specificity, F1 score and AUC.\n",
        "\n",
        "# Solution\n",
        "\n",
        "# Standardize the features\n",
        "scaler = StandardScaler()\n",
        "X_train_scaled = scaler.fit_transform(X_train)\n",
        "X_test_scaled = scaler.transform(X_test)"
      ],
      "metadata": {
        "id": "IRpu5gvmJsuf"
      },
      "execution_count": 69,
      "outputs": []
    },
    {
      "cell_type": "code",
      "source": [
        "# Grid search for best k\n",
        "knn = KNeighborsClassifier()\n",
        "param_grid = {'n_neighbors': list(range(3, 11))}\n",
        "grid = GridSearchCV(knn, param_grid, cv=10, scoring='accuracy')\n",
        "grid.fit(X_train_scaled, y_train)\n",
        "\n",
        "# Best k\n",
        "best_k = grid.best_params_['n_neighbors']\n",
        "print(f\"Best k from grid search: {best_k}\")"
      ],
      "metadata": {
        "colab": {
          "base_uri": "https://localhost:8080/"
        },
        "id": "nADUaXR8Jsrf",
        "outputId": "486ea34b-a053-478a-8b35-6ac8e38e7802"
      },
      "execution_count": 70,
      "outputs": [
        {
          "output_type": "stream",
          "name": "stdout",
          "text": [
            "Best k from grid search: 3\n"
          ]
        }
      ]
    },
    {
      "cell_type": "code",
      "source": [
        "# Fit final KNN model\n",
        "best_knn = KNeighborsClassifier(n_neighbors=best_k)\n",
        "best_knn.fit(X_train_scaled, y_train)\n",
        "\n",
        "# Predict class labels and probabilities\n",
        "y_pred_knn = best_knn.predict(X_test_scaled)\n",
        "y_prob_knn = best_knn.predict_proba(X_test_scaled)[:, 1]"
      ],
      "metadata": {
        "id": "nBXo2SZNN4De"
      },
      "execution_count": 71,
      "outputs": []
    },
    {
      "cell_type": "code",
      "source": [
        "# ROC curve\n",
        "fpr_knn, tpr_knn, _ = roc_curve(y_test, y_prob_knn)\n",
        "auc_knn = auc(fpr_knn, tpr_knn)\n",
        "\n",
        "# Plot ROC curve\n",
        "plt.figure(figsize=(8, 6))\n",
        "plt.plot(fpr_knn, tpr_knn, label=f'ROC Curve (AUC = {auc_knn:.2f})')\n",
        "plt.plot([0, 1], [0, 1], 'k--')\n",
        "plt.xlabel('False Positive Rate')\n",
        "plt.ylabel('True Positive Rate (Recall)')\n",
        "plt.title('KNN ROC Curve')\n",
        "plt.legend()\n",
        "plt.grid(True)\n",
        "plt.show()"
      ],
      "metadata": {
        "colab": {
          "base_uri": "https://localhost:8080/",
          "height": 564
        },
        "id": "t_IJfnf-Oday",
        "outputId": "4edbcdb4-8e28-47ae-eb4e-82cf2bd81123"
      },
      "execution_count": 72,
      "outputs": [
        {
          "output_type": "display_data",
          "data": {
            "text/plain": [
              "<Figure size 800x600 with 1 Axes>"
            ],
            "image/png": "[encoded data removed]"
          },
          "metadata": {}
        }
      ]
    },
    {
      "cell_type": "code",
      "source": [
        "# Confusion matrix\n",
        "cm_knn = confusion_matrix(y_test, y_pred_knn)\n",
        "tn, fp, fn, tp = cm_knn.ravel()\n",
        "\n",
        "# Evaluation metrics\n",
        "accuracy_knn = accuracy_score(y_test, y_pred_knn)\n",
        "precision_knn = precision_score(y_test, y_pred_knn)\n",
        "recall_knn = recall_score(y_test, y_pred_knn)\n",
        "f1_knn = f1_score(y_test, y_pred_knn)\n",
        "specificity_knn = tn / (tn + fp)\n",
        "\n",
        "# Print results\n",
        "print(\"Confusion Matrix:\")\n",
        "print(cm_knn)\n",
        "print(\"\\nEvaluation Metrics:\")\n",
        "print(f\"Best k       : {best_k}\")\n",
        "print(f\"Accuracy     : {accuracy_knn:.2f}\")\n",
        "print(f\"Precision    : {precision_knn:.2f}\")\n",
        "print(f\"Recall       : {recall_knn:.2f}\")\n",
        "print(f\"Specificity  : {specificity_knn:.2f}\")\n",
        "print(f\"F1 Score     : {f1_knn:.2f}\")\n",
        "print(f\"AUC          : {auc_knn:.2f}\")"
      ],
      "metadata": {
        "colab": {
          "base_uri": "https://localhost:8080/"
        },
        "id": "3mFb2klUOdYU",
        "outputId": "f13e00b7-e5a1-43d0-9da2-f9b2a8faadb1"
      },
      "execution_count": 73,
      "outputs": [
        {
          "output_type": "stream",
          "name": "stdout",
          "text": [
            "Confusion Matrix:\n",
            "[[14  7]\n",
            " [ 5 72]]\n",
            "\n",
            "Evaluation Metrics:\n",
            "Best k       : 3\n",
            "Accuracy     : 0.88\n",
            "Precision    : 0.91\n",
            "Recall       : 0.94\n",
            "Specificity  : 0.67\n",
            "F1 Score     : 0.92\n",
            "AUC          : 0.90\n"
          ]
        }
      ]
    },
    {
      "cell_type": "code",
      "source": [
        "# Question 10\n",
        "\n",
        "# Fit a LDA model to the training data to predict mpg_high_low using all the other features/variables except mpg, year, origin, and name.\n",
        "# Report the accuracy, precision, recall, specificity and F1 score\n",
        "\n",
        "# Solution\n",
        "\n",
        "# 10-fold Cross-Validation on training set\n",
        "lda = LinearDiscriminantAnalysis()\n",
        "cv_score_lda = cross_val_score(lda, X_train, y_train, cv=10, scoring='accuracy')\n",
        "print(\"LDA 10-Fold CV Accuracy (training set):\", cv_score_lda.mean())\n",
        "\n",
        "# Fit model on full training data\n",
        "lda.fit(X_train, y_train)\n",
        "\n",
        "# Predict on test set\n",
        "y_pred_lda = lda.predict(X_test)\n",
        "\n",
        "# Classification report (accuracy, precision, recall, F1)\n",
        "print(\"\\nLDA Test Set Performance:\")\n",
        "print(classification_report(y_test, y_pred_lda, target_names=['Low', 'High']))\n",
        "\n",
        "# Specificity calculation\n",
        "cm = confusion_matrix(y_test, y_pred_lda)\n",
        "tn, fp, fn, tp = cm.ravel()\n",
        "\n",
        "specificity = tn / (tn + fp)\n",
        "specificity_lda = specificity\n",
        "\n",
        "accuracy_lda = accuracy_score(y_test, y_pred_lda)\n",
        "precision_lda = precision_score(y_test, y_pred_lda)\n",
        "recall_lda = recall_score(y_test, y_pred_lda)\n",
        "f1_lda = f1_score(y_test, y_pred_lda)\n",
        "\n",
        "print(\"Specificity:\", specificity)"
      ],
      "metadata": {
        "colab": {
          "base_uri": "https://localhost:8080/"
        },
        "id": "J9LCI_FMps2L",
        "outputId": "b59746ce-3384-4062-c659-79302f5c56f7"
      },
      "execution_count": 76,
      "outputs": [
        {
          "output_type": "stream",
          "name": "stdout",
          "text": [
            "LDA 10-Fold CV Accuracy (training set): 0.826551724137931\n",
            "\n",
            "LDA Test Set Performance:\n",
            "              precision    recall  f1-score   support\n",
            "\n",
            "         Low       0.80      0.38      0.52        21\n",
            "        High       0.85      0.97      0.91        77\n",
            "\n",
            "    accuracy                           0.85        98\n",
            "   macro avg       0.83      0.68      0.71        98\n",
            "weighted avg       0.84      0.85      0.82        98\n",
            "\n",
            "Specificity: 0.38095238095238093\n"
          ]
        }
      ]
    },
    {
      "cell_type": "code",
      "source": [
        "# Question 11\n",
        "\n",
        "# Summarize the performance of the all the above models by creating a dataframe with 4 columns – Model_Name, Accuracy, Precision, Recall,\n",
        "# Specificity, F1 Score. The data frame should contain one row for each model you built above with each of the columns filled in with the\n",
        "# appropriate metric. Print out the dataframe. Which model performed the best from an accuracy point of view and which model performed\n",
        "# best from a recall point of view without adjusting for the threshold?\n",
        "\n",
        "# Solution\n",
        "\n",
        "# Create list of model results\n",
        "model_summary = [\n",
        "    ['Logistic Regression', accuracy, precision, recall, specificity, f1],\n",
        "    ['Naive Bayes', accuracy_nb, precision_nb, recall_nb, specificity_nb, f1_nb],\n",
        "    ['KNN', accuracy_knn, precision_knn, recall_knn, specificity_knn, f1_knn],\n",
        "    ['LDA', accuracy_lda, precision_lda, recall_lda, specificity_lda, f1_lda]\n",
        "]\n",
        "\n",
        "# Convert to DataFrame\n",
        "summary_df = pd.DataFrame(model_summary, columns=[\n",
        "    'Model_Name', 'Accuracy', 'Precision', 'Recall', 'Specificity', 'F1 Score'\n",
        "])\n",
        "\n",
        "# Print the summary\n",
        "print(\"\\n Model Performance Summary:\")\n",
        "print(summary_df)"
      ],
      "metadata": {
        "colab": {
          "base_uri": "https://localhost:8080/"
        },
        "id": "VPHGQzH4PGhL",
        "outputId": "dbab20f9-ebf9-4bea-8424-2253d03d9934"
      },
      "execution_count": 77,
      "outputs": [
        {
          "output_type": "stream",
          "name": "stdout",
          "text": [
            "\n",
            " Model Performance Summary:\n",
            "            Model_Name  Accuracy  Precision    Recall  Specificity  F1 Score\n",
            "0  Logistic Regression  0.877551   0.901235  0.948052     0.380952  0.924051\n",
            "1          Naive Bayes  0.857143   0.943662  0.870130     0.904762  0.905405\n",
            "2                  KNN  0.877551   0.911392  0.935065     0.666667  0.923077\n",
            "3                  LDA  0.846939   0.852273  0.974026     0.380952  0.909091\n"
          ]
        }
      ]
    },
    {
      "cell_type": "code",
      "source": [
        "# Best model by Accuracy\n",
        "best_accuracy_model = summary_df.loc[summary_df['Accuracy'].idxmax(), 'Model_Name']\n",
        "\n",
        "# Best model by Recall\n",
        "best_recall_model = summary_df.loc[summary_df['Recall'].idxmax(), 'Model_Name']\n",
        "\n",
        "print(f\"\\n Best Model by Accuracy: {best_accuracy_model}\")\n",
        "print(f\"Best Model by Recall  : {best_recall_model}\")"
      ],
      "metadata": {
        "colab": {
          "base_uri": "https://localhost:8080/"
        },
        "id": "khAjqyLbPGZx",
        "outputId": "2558b879-34f9-402c-9df4-72f82ddcbb60"
      },
      "execution_count": 78,
      "outputs": [
        {
          "output_type": "stream",
          "name": "stdout",
          "text": [
            "\n",
            " Best Model by Accuracy: Logistic Regression\n",
            "Best Model by Recall  : LDA\n"
          ]
        }
      ]
    }
  ]
}
